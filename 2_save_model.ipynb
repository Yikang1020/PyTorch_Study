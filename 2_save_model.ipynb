{
 "cells": [
  {
   "cell_type": "code",
   "execution_count": 1,
   "metadata": {},
   "outputs": [],
   "source": [
    "import torch\n",
    "from torch import nn\n",
    "from torch.utils.data import DataLoader\n",
    "from torchvision import datasets\n",
    "from torchvision.transforms import ToTensor\n",
    "from torchsummary import summary\n",
    "\n",
    "import matplotlib.pyplot as plt"
   ]
  },
  {
   "cell_type": "code",
   "execution_count": 8,
   "metadata": {},
   "outputs": [
    {
     "name": "stdout",
     "output_type": "stream",
     "text": [
      "Shape of X [N, C, H, W]: torch.Size([64, 1, 28, 28])\n",
      "Shape of y: torch.Size([64]) torch.int64\n",
      "Using mps device\n"
     ]
    }
   ],
   "source": [
    "# Download training data from open datasets.\n",
    "training_data = datasets.FashionMNIST(\n",
    "    root=\"data\",\n",
    "    train=True,\n",
    "    download=True,\n",
    "    transform=ToTensor(),\n",
    ")\n",
    "\n",
    "# Download test data from open datasets.\n",
    "test_data = datasets.FashionMNIST(\n",
    "    root=\"data\",\n",
    "    train=False,\n",
    "    download=True,\n",
    "    transform=ToTensor(),\n",
    ")\n",
    "\n",
    "batch_size = 64\n",
    "\n",
    "# Create data loaders.\n",
    "train_dataloader = DataLoader(training_data, batch_size=batch_size)\n",
    "test_dataloader = DataLoader(test_data, batch_size=batch_size)\n",
    "\n",
    "for X, y in test_dataloader:\n",
    "    print(f\"Shape of X [N, C, H, W]: {X.shape}\")\n",
    "    print(f\"Shape of y: {y.shape} {y.dtype}\")\n",
    "    break\n",
    "\n",
    "# Get cpu, gpu or mps device for training.\n",
    "device = (\n",
    "    \"cuda\"\n",
    "    if torch.cuda.is_available()\n",
    "    else \"mps\" # it is mps which is gpu but not cuda for mac\n",
    "    if torch.backends.mps.is_available()\n",
    "    else \"cpu\"\n",
    ")\n",
    "print(f\"Using {device} device\")"
   ]
  },
  {
   "cell_type": "code",
   "execution_count": 9,
   "metadata": {},
   "outputs": [],
   "source": [
    "class NN(nn.Module): # nn.Module is base class for all models in pytorch\n",
    "    def __init__(self): # constructor of class\n",
    "        super().__init__() # super() is used to call the constructor of parent class\n",
    "        self.flatten  = nn.Flatten() # flatten layer\n",
    "        self.linear_relu_stack = nn.Sequential(\n",
    "            nn.Linear(28*28,512),\n",
    "            nn.ReLU(),\n",
    "            nn.Linear(512,512),\n",
    "            nn.ReLU(),\n",
    "            nn.Linear(512,10),\n",
    "        )\n",
    "    def forward(self,x):\n",
    "        x = self.flatten(x)\n",
    "        logits = self.linear_relu_stack(x)\n",
    "        return logits\n"
   ]
  },
  {
   "cell_type": "code",
   "execution_count": 10,
   "metadata": {},
   "outputs": [
    {
     "name": "stdout",
     "output_type": "stream",
     "text": [
      "NN(\n",
      "  (flatten): Flatten(start_dim=1, end_dim=-1)\n",
      "  (linear_relu_stack): Sequential(\n",
      "    (0): Linear(in_features=784, out_features=512, bias=True)\n",
      "    (1): ReLU()\n",
      "    (2): Linear(in_features=512, out_features=512, bias=True)\n",
      "    (3): ReLU()\n",
      "    (4): Linear(in_features=512, out_features=10, bias=True)\n",
      "  )\n",
      ")\n"
     ]
    }
   ],
   "source": [
    "# Create an instance of the model, including the device it is on.\n",
    "model = NN().to(device) # to() is used to move the model to the device\n",
    "loss_fn = nn.CrossEntropyLoss()\n",
    "optimizer = torch.optim.SGD(model.parameters(), lr=1e-3)\n",
    "print(model)\n"
   ]
  },
  {
   "cell_type": "code",
   "execution_count": 11,
   "metadata": {},
   "outputs": [],
   "source": [
    "# define the training loop\n",
    "def train(dataloader, model, loss_fn, optimizer):\n",
    "    size = len(dataloader.dataset) # get the size of the dataset\n",
    "    model.train() # set the model to training mode\n",
    "    for batch, (X, y) in enumerate(dataloader): # iterate over the data, batch is the index of the batch, X is the input and y is the output\n",
    "        X, y = X.to(device), y.to(device) # move the data to the device\n",
    "        # Compute prediction error\n",
    "        pred = model(X)\n",
    "        loss = loss_fn(pred, y)\n",
    "        # Backpropagation\n",
    "        loss.backward() # compute the gradient of the loss with respect to the model parameters\n",
    "        optimizer.step() # adjust the parameters by the gradients collected in the backward pass\n",
    "        optimizer.zero_grad() # reset the gradients to zero\n",
    "        if batch % 100 == 0:\n",
    "            loss, current = loss.item(), (batch + 1) * len(X) \n",
    "            print(f\"loss: {loss:>7f}  [{current:>5d}/{size:>5d}]\")"
   ]
  },
  {
   "cell_type": "code",
   "execution_count": 12,
   "metadata": {},
   "outputs": [],
   "source": [
    "def test(dataloader, model, loss_fn):\n",
    "    size = len(dataloader.dataset)\n",
    "    num_batches = len(dataloader)\n",
    "    model.eval() # set the model to evaluation mode\n",
    "    test_loss, correct = 0, 0\n",
    "    with torch.no_grad(): # disable gradient computation\n",
    "        for X, y in dataloader:\n",
    "            X, y = X.to(device), y.to(device)\n",
    "            pred = model(X)\n",
    "            test_loss += loss_fn(pred, y).item() # sum up the loss\n",
    "            correct += (pred.argmax(1) == y).type(torch.float).sum().item() # get the index of the max log-probability\n",
    "    test_loss /= num_batches\n",
    "    correct /= size\n",
    "    print(f\"Test Error: \\n Accuracy: {(100*correct):>0.1f}%, Avg loss: {test_loss:>8f} \\n\")"
   ]
  },
  {
   "cell_type": "code",
   "execution_count": 13,
   "metadata": {},
   "outputs": [
    {
     "name": "stdout",
     "output_type": "stream",
     "text": [
      "Epoch 1\n",
      "-------------------------------\n",
      "loss: 2.301414  [   64/60000]\n",
      "loss: 2.285571  [ 6464/60000]\n",
      "loss: 2.265106  [12864/60000]\n",
      "loss: 2.260094  [19264/60000]\n",
      "loss: 2.253020  [25664/60000]\n",
      "loss: 2.212368  [32064/60000]\n",
      "loss: 2.231765  [38464/60000]\n",
      "loss: 2.191175  [44864/60000]\n",
      "loss: 2.184275  [51264/60000]\n",
      "loss: 2.159749  [57664/60000]\n",
      "Test Error: \n",
      " Accuracy: 46.0%, Avg loss: 2.153062 \n",
      "\n",
      "Epoch 2\n",
      "-------------------------------\n",
      "loss: 2.163518  [   64/60000]\n",
      "loss: 2.153458  [ 6464/60000]\n",
      "loss: 2.095387  [12864/60000]\n",
      "loss: 2.110791  [19264/60000]\n",
      "loss: 2.069280  [25664/60000]\n",
      "loss: 1.999846  [32064/60000]\n",
      "loss: 2.038357  [38464/60000]\n",
      "loss: 1.956652  [44864/60000]\n",
      "loss: 1.955865  [51264/60000]\n",
      "loss: 1.891500  [57664/60000]\n",
      "Test Error: \n",
      " Accuracy: 58.8%, Avg loss: 1.886781 \n",
      "\n",
      "Epoch 3\n",
      "-------------------------------\n",
      "loss: 1.920731  [   64/60000]\n",
      "loss: 1.892336  [ 6464/60000]\n",
      "loss: 1.769281  [12864/60000]\n",
      "loss: 1.807738  [19264/60000]\n",
      "loss: 1.697378  [25664/60000]\n",
      "loss: 1.643645  [32064/60000]\n",
      "loss: 1.673928  [38464/60000]\n",
      "loss: 1.569160  [44864/60000]\n",
      "loss: 1.590062  [51264/60000]\n",
      "loss: 1.488582  [57664/60000]\n",
      "Test Error: \n",
      " Accuracy: 60.9%, Avg loss: 1.502186 \n",
      "\n",
      "Epoch 4\n",
      "-------------------------------\n",
      "loss: 1.571940  [   64/60000]\n",
      "loss: 1.535508  [ 6464/60000]\n",
      "loss: 1.377727  [12864/60000]\n",
      "loss: 1.452289  [19264/60000]\n",
      "loss: 1.325351  [25664/60000]\n",
      "loss: 1.319593  [32064/60000]\n",
      "loss: 1.346304  [38464/60000]\n",
      "loss: 1.263569  [44864/60000]\n",
      "loss: 1.301557  [51264/60000]\n",
      "loss: 1.204363  [57664/60000]\n",
      "Test Error: \n",
      " Accuracy: 63.3%, Avg loss: 1.228177 \n",
      "\n",
      "Epoch 5\n",
      "-------------------------------\n",
      "loss: 1.307247  [   64/60000]\n",
      "loss: 1.286099  [ 6464/60000]\n",
      "loss: 1.118212  [12864/60000]\n",
      "loss: 1.227192  [19264/60000]\n",
      "loss: 1.097983  [25664/60000]\n",
      "loss: 1.120406  [32064/60000]\n",
      "loss: 1.154220  [38464/60000]\n",
      "loss: 1.084886  [44864/60000]\n",
      "loss: 1.130984  [51264/60000]\n",
      "loss: 1.045843  [57664/60000]\n",
      "Test Error: \n",
      " Accuracy: 64.7%, Avg loss: 1.066273 \n",
      "\n",
      "Done!\n"
     ]
    }
   ],
   "source": [
    "epochs = 5 # number of epochs\n",
    "for t in range(epochs):\n",
    "    print(f\"Epoch {t+1}\\n-------------------------------\")\n",
    "    train(train_dataloader, model, loss_fn, optimizer)\n",
    "    test(test_dataloader, model, loss_fn)\n",
    "print(\"Done!\")"
   ]
  },
  {
   "cell_type": "code",
   "execution_count": 14,
   "metadata": {},
   "outputs": [],
   "source": [
    "# save model state_dict\n",
    "torch.save(model.state_dict(), \"model_state_dict.pth\")\n",
    "# save the entire model\n",
    "torch.save(model, \"model_entire.pth\")\n"
   ]
  },
  {
   "cell_type": "code",
   "execution_count": 3,
   "metadata": {},
   "outputs": [],
   "source": [
    "class NN(nn.Module): # nn.Module is base class for all models in pytorch\n",
    "    def __init__(self): # constructor of class\n",
    "        super().__init__() # super() is used to call the constructor of parent class\n",
    "        self.flatten  = nn.Flatten() # flatten layer\n",
    "        self.linear_relu_stack = nn.Sequential(\n",
    "            nn.Linear(28*28,512),\n",
    "            nn.ReLU(),\n",
    "            nn.Linear(512,512),\n",
    "            nn.ReLU(),\n",
    "            nn.Linear(512,10),\n",
    "        )\n",
    "    def forward(self,x):\n",
    "        x = self.flatten(x)\n",
    "        logits = self.linear_relu_stack(x)\n",
    "        return logits"
   ]
  },
  {
   "cell_type": "code",
   "execution_count": 4,
   "metadata": {},
   "outputs": [
    {
     "name": "stderr",
     "output_type": "stream",
     "text": [
      "/var/folders/g0/phgwvz7x3sz18gfzz4zv9rq40000gn/T/ipykernel_75049/2299125878.py:3: FutureWarning: You are using `torch.load` with `weights_only=False` (the current default value), which uses the default pickle module implicitly. It is possible to construct malicious pickle data which will execute arbitrary code during unpickling (See https://github.com/pytorch/pytorch/blob/main/SECURITY.md#untrusted-models for more details). In a future release, the default value for `weights_only` will be flipped to `True`. This limits the functions that could be executed during unpickling. Arbitrary objects will no longer be allowed to be loaded via this mode unless they are explicitly allowlisted by the user via `torch.serialization.add_safe_globals`. We recommend you start setting `weights_only=True` for any use case where you don't have full control of the loaded file. Please open an issue on GitHub for any issues related to this experimental feature.\n",
      "  model.load_state_dict(torch.load(\"model_state_dict.pth\"))\n"
     ]
    },
    {
     "data": {
      "text/plain": [
       "<All keys matched successfully>"
      ]
     },
     "execution_count": 4,
     "metadata": {},
     "output_type": "execute_result"
    }
   ],
   "source": [
    "# load model state_dict\n",
    "model = NN()\n",
    "model.load_state_dict(torch.load(\"model_state_dict.pth\"))"
   ]
  },
  {
   "cell_type": "code",
   "execution_count": 5,
   "metadata": {},
   "outputs": [
    {
     "name": "stderr",
     "output_type": "stream",
     "text": [
      "/var/folders/g0/phgwvz7x3sz18gfzz4zv9rq40000gn/T/ipykernel_75049/2511868538.py:2: FutureWarning: You are using `torch.load` with `weights_only=False` (the current default value), which uses the default pickle module implicitly. It is possible to construct malicious pickle data which will execute arbitrary code during unpickling (See https://github.com/pytorch/pytorch/blob/main/SECURITY.md#untrusted-models for more details). In a future release, the default value for `weights_only` will be flipped to `True`. This limits the functions that could be executed during unpickling. Arbitrary objects will no longer be allowed to be loaded via this mode unless they are explicitly allowlisted by the user via `torch.serialization.add_safe_globals`. We recommend you start setting `weights_only=True` for any use case where you don't have full control of the loaded file. Please open an issue on GitHub for any issues related to this experimental feature.\n",
      "  model = torch.load(\"model_entire.pth\")\n"
     ]
    }
   ],
   "source": [
    "# load the entire model\n",
    "model = torch.load(\"model_entire.pth\")"
   ]
  },
  {
   "cell_type": "markdown",
   "metadata": {},
   "source": [
    "the difference between the two is that the state_dict only contains the model’s weights, while the entire model contains the weights, as well as the model’s architecture and other state_dict values. But we need to ensure that the model class is defined as it was when the model was saved."
   ]
  }
 ],
 "metadata": {
  "kernelspec": {
   "display_name": "pytorch",
   "language": "python",
   "name": "python3"
  },
  "language_info": {
   "codemirror_mode": {
    "name": "ipython",
    "version": 3
   },
   "file_extension": ".py",
   "mimetype": "text/x-python",
   "name": "python",
   "nbconvert_exporter": "python",
   "pygments_lexer": "ipython3",
   "version": "3.10.14"
  }
 },
 "nbformat": 4,
 "nbformat_minor": 2
}
